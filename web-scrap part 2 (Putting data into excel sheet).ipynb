{
 "cells": [
  {
   "cell_type": "code",
   "execution_count": 52,
   "metadata": {},
   "outputs": [],
   "source": [
    "import bs4\n",
    "from urllib.request import urlopen as uReq\n",
    "from bs4 import BeautifulSoup as soup\n",
    "\n",
    "#url link cannot be a google search like https://www.google.com/search?q=drone+flipkart\n",
    "my_url = 'https://www.alibaba.com/showroom/drone.html'\n",
    "#connection establish and closed\n",
    "uReq(my_url)\n",
    "uClient = uReq(my_url)\n",
    "page_html = uClient.read()\n",
    "uClient.close()\n",
    "#parser is selected as html also html5 and lxml is there \n",
    "page_soup = soup(page_html,\"html.parser\")\n",
    "#the first one uses page_soup as parser \n",
    "#parser.findall(\"type of tag\",{\"tag id\":\"tag id name\"})\n",
    "#returns a list here for example containers\n",
    "#findall used to find all the tag with a given id name which you need to have knowledge of before hand\n",
    "containers = page_soup.findAll(\"div\",{\"class\":\"item-main\"})\n",
    "#also the html file can be traversed using '.' operator containers.div\n",
    "\n",
    "#no of objects found of specific tag\n",
    "num_of_items = len(containers)"
   ]
  },
  {
   "cell_type": "code",
   "execution_count": 18,
   "metadata": {},
   "outputs": [
    {
     "name": "stdout",
     "output_type": "stream",
     "text": [
      "product name :Flying ZD-5 Remote Gesture Control Mode 2.4Ghz 6Axis RC Helicopter Drone With Long Flight Time 720P HD WIFI Camera RC Quadcopter\n",
      "product name :Infrared sensing unmanned aerial vehicle Interactive flying saucer Infrared Sensing Gesture Controlled Induction mini Drone\n",
      "product name :1000cd/m2 7 inch high brightness Mini fpv monitor drone with hd camera\n",
      "product name :Mini UFO toy Infrared Induction drone Toy for Kids and Adults-Built-in Shining Colorful LED Light hand control drone\n",
      "product name :VISUO XS809W Upgraded Version XS809WH HD camera 2.4G Foldable RC Quadcopter Wifi FPV Selfie Drone\n",
      "product name :Exceptional Quality Competitive Price Drone 2.4Ghz Rc Ufo Quadcopter Wifi Camera Drone\n",
      "product name :Fulaiying Magic Speed X52 App 2.4g 1080 FPV Wide Angle 6 Axis Gyro Plastic RC Quadcopter Live Video Drone With WiFi HD Camera\n",
      "product name :GLOBAL DRONE GW-X183 2.4g fpv Drone with professional camera, drone professional for aerial Upgrade 5G 1080p wifi camera\n",
      "product name :Detoo X183 5.8G FPV 2Mp 720P Drone Dual GPS Quad Copter Auto Follow Drone With HD Camera Remote Control Drone\n",
      "product name :2.4GHz RC Mini Drone with hd Camera\n",
      "product name :DJI Mavic Pro RC drone with HD 4K camera Obstacle sensor 7km flight distance\n",
      "product name :Hot Sale JDTOYS JD-19 E58 JY019 Quadcpter 2.4G RC Pocket Drone with HD Camera\n",
      "product name :Drone professional for aerial photography\n",
      "product name :2.4g rc folding mini drone with hd camera\n",
      "product name :Professional JJR/C H36 Mini Drone 360 Degree Flip 6-axis Gyro 2.4GHz Radio Control Quadcopter with LED Light\n",
      "product name :Original Phantom 4 Pro V2.0 Professional Quadcopter 4K Camera Drone\n",
      "product name :RC Quadcopter Distance Camera RC Drone With HD Camera Wifi Control Professional\n",
      "product name :2018 Amazon hot selling adult toy remote control x5c 2.4Ghz Drone with hd camera\n",
      "product name :four axis drone radio controlled rc drones with hd camera and gps\n",
      "product name :OEM ODM china wholesale Vitus 320 ar dron helicopter uav Aircraft drones with 4k camera and gps rc quadcopter drone 4k\n",
      "product name :New design cheap price hot sale mini drone with camera\n",
      "product name :Linxtech SJRC S20W Drone 5G WIFI 1080P FPV RC Quadcopter With HD Camera and Dual Positioning Follow me mode of GPS & GLONASS\n",
      "product name :2019 Wholesale Rc Helicopter Quadcopter Remote Control Toys Drone With Hd Camera\n",
      "product name :NEW ARRIVING W606-16 2.4G Hand Sensor Control Foldable Mini RC Drone\n",
      "product name :DJI drone with camera phantom 3 standard with lowest price\n",
      "product name :Mini drone JJRC H36 RC Quadcopter 2.4GHz 4CH 6 Axis Gyro Drones with Headless Mode\n",
      "product name :SJY-JY019 Fly More Combo personal rc Drone with 2MP Wide Angle Camera similar vs Dji mavic pro\n",
      "product name :Upgrade Portable Folding Optical flow RC Hover camera Drone with WIFI Live Photo APP Helicopter Altitude Hold Quadcopter\n",
      "product name :Typhoon Q500 4K Quadcopter RC Drone with Handheld CGO SteadyGrip Gimbal, Yuneec Typhoon\n",
      "product name :Long Flight Foldable 5G Wifi FPV 1080P HD Camera Obtain GPS Follow Me Drone\n",
      "product name :China wholesale best 2.4G headless mode long distance flying WIFI smart small mini pocket rc quadcopter drone with camera\n",
      "product name :BEST Eachine E58 WIFI FPV With Wide Angle HD Camera High Hold / drone with camera / quadcopter drone for USA market\n",
      "product name :DWI Dowellin Wifi Brushless Dual GPS Professional Selfie Drone 4K With HD Camera\n",
      "product name :AR function 2.4G rc foldable altitude hold drone with camera wifi\n",
      "product name :Selfie Drone With Camera XS809 XS809w Fpv Drone Rc Helicopter Remote Control Toy For Kids VISUO Xs809hw Foldable Drone\n",
      "product name :wireless transmitter receiver helicopter rc drone with camera\n",
      "product name :wholesale small toy ar pocket helicopter rc mini micro nano quadcopter drone\n",
      "product name :GLOBAL DRONE New Design GW180 2.4G 6axis gyro RC dron helicopter quadcopter drone professional 2016 for sale\n",
      "product name :6 axis gyro 4ch mini rc foldable pocket drone with camera\n",
      "product name :L6065 2018 New Arrive Cheap Mini RC Quadcopter Drone\n"
     ]
    }
   ],
   "source": [
    "#for traversing trough all the objects and scraping out the product name\n",
    "for cont in containers:\n",
    "    \n",
    "    pdt_name = cont.div.a.img[\"alt\"]\n",
    "    print(\"product name :\"+ pdt_name)"
   ]
  },
  {
   "cell_type": "code",
   "execution_count": 21,
   "metadata": {},
   "outputs": [],
   "source": [
    "#unconventional way of traversing through html via hierchy \n",
    "#hierchy :div class :item-main / div class : item-info / div class : price / span itemprop = \"lowPrice\"\n",
    "#                 containers   /             cont_info /    cont_price     /            cont_lowprice\n",
    "cont = containers[0]\n",
    "cont_info = cont.findAll(\"div\",{\"class\":\"item-info\"})\n",
    "cont_info0 = cont_info[0]\n",
    "cont_price = cont_info0.findAll(\"div\",{\"class\":\"price\"})\n",
    "cont_price0 = cont_price[0]\n",
    "cont_lowprice = cont_info0.findAll(\"span\",{\"itemprop\":\"lowPrice\"})\n",
    "cont_lowprice0=cont_lowprice[0]\n"
   ]
  },
  {
   "cell_type": "code",
   "execution_count": 54,
   "metadata": {},
   "outputs": [
    {
     "name": "stdout",
     "output_type": "stream",
     "text": [
      "<span itemprop=\"lowPrice\">29.3</span>\n",
      "29.3\n"
     ]
    }
   ],
   "source": [
    "#for the whole tag\n",
    "print(cont_lowprice0)\n",
    "#for value inside the tag\n",
    "print(cont_lowprice0.text)"
   ]
  },
  {
   "cell_type": "code",
   "execution_count": 33,
   "metadata": {},
   "outputs": [
    {
     "name": "stdout",
     "output_type": "stream",
     "text": [
      "29.3\n",
      "30.8\n"
     ]
    }
   ],
   "source": [
    "#\n",
    "\n",
    "lows = cont.findAll(\"span\",{\"itemprop\":\"lowPrice\"})\n",
    "print(lows[0].text)\n",
    "highs = cont.findAll(\"span\",{\"itemprop\":\"highPrice\"})\n",
    "print(highs[0].text)"
   ]
  },
  {
   "cell_type": "code",
   "execution_count": 49,
   "metadata": {},
   "outputs": [
    {
     "name": "stdout",
     "output_type": "stream",
     "text": [
      "lowprice29.3  highprice30.8\n",
      "lowprice8  highprice10\n",
      "lowprice133  highprice163\n",
      "lowprice6.8  highprice7.8\n",
      "lowprice18.75  highprice35.35\n",
      "lowprice29.35  highprice31.87\n",
      "lowprice15.88  highprice31.75\n",
      "lowprice86.99  highprice91.85\n",
      "lowprice64.12  highprice78.21\n",
      "lowprice26.0  highprice35.0\n",
      "lowprice19.8  highprice19.8\n",
      "lowprice25.5  highprice28.5\n",
      "lowprice86.3  highprice97.1\n",
      "lowprice27.21  highprice30.8\n",
      "lowprice1  highprice16.9\n",
      "lowprice800  highprice1499\n",
      "lowprice24.5  highprice26.5\n",
      "lowprice11.5  highprice12\n",
      "lowprice67.45  highprice71\n",
      "lowprice450  highprice560\n",
      "lowprice2.59  highprice3.59\n",
      "lowprice68.0  highprice68.0\n",
      "lowprice17.7  highprice34.5\n",
      "lowprice11.99  highprice12.99\n",
      "nil\n",
      "lowprice8.45  highprice8.45\n",
      "lowprice30.9  highprice33.9\n",
      "lowprice27.5  highprice38.0\n",
      "lowprice300  highprice599\n",
      "lowprice295  highprice340\n",
      "lowprice14.7  highprice21\n",
      "lowprice28.9  highprice32.8\n",
      "lowprice145.92  highprice185.12\n",
      "lowprice16.03  highprice28.65\n",
      "lowprice18  highprice33.9\n",
      "lowprice11.88  highprice16\n",
      "lowprice9.7  highprice10.9\n",
      "lowprice86.99  highprice91.85\n",
      "lowprice18.29  highprice22.59\n",
      "lowprice6.59  highprice7.99\n"
     ]
    }
   ],
   "source": [
    "\n",
    "\n",
    "for cont in containers:\n",
    "    \n",
    "    lows = cont.findAll(\"span\",{\"itemprop\":\"lowPrice\"})\n",
    "    highs = cont.findAll(\"span\",{\"itemprop\":\"highPrice\"})\n",
    "    try :\n",
    "        print(\"lowprice\"+lows[0].text+\"  \"+\"highprice\"+highs[0].text)\n",
    "#handle no attribute exception which will occur if the specific tag is not pressent int he tag\n",
    "    except IndexError as e:\n",
    "        print(\"nil\")\n",
    "    "
   ]
  },
  {
   "cell_type": "code",
   "execution_count": null,
   "metadata": {},
   "outputs": [],
   "source": [
    "###############################################################################################################################\n",
    "                                          ####PART 2####"
   ]
  },
  {
   "cell_type": "code",
   "execution_count": 57,
   "metadata": {},
   "outputs": [],
   "source": [
    "#intialise the csv file and a file pointer in write mode\n",
    "filename = \"data.csv\"\n",
    "f = open(filename,\"w\")"
   ]
  },
  {
   "cell_type": "code",
   "execution_count": 58,
   "metadata": {},
   "outputs": [
    {
     "data": {
      "text/plain": [
       "45"
      ]
     },
     "execution_count": 58,
     "metadata": {},
     "output_type": "execute_result"
    }
   ],
   "source": [
    "# define the header or attribute names\n",
    "# \\n is important as it acts as a delimeter \n",
    "headers = \"product_name , lowest_price , highest_price \\n\"\n",
    "f.write(headers)"
   ]
  },
  {
   "cell_type": "code",
   "execution_count": 64,
   "metadata": {},
   "outputs": [
    {
     "name": "stdout",
     "output_type": "stream",
     "text": [
      "nil\n"
     ]
    }
   ],
   "source": [
    "filename = \"data.csv\"\n",
    "f = open(filename,\"w\")\n",
    "headers = \"product_name , lowest_price , highest_price\\n\"\n",
    "f.write(headers)\n",
    "for cont in containers:\n",
    "    pdt_name = cont.div.a.img[\"alt\"] \n",
    "    lows = cont.findAll(\"span\",{\"itemprop\":\"lowPrice\"})\n",
    "    highs = cont.findAll(\"span\",{\"itemprop\":\"highPrice\"})\n",
    "    try :\n",
    "        #writing onto the file\n",
    "        f.write(pdt_name.replace(\",\",\"|\") + \",\" + lows[0].text + \",\" + highs[0].text + \"\\n\")\n",
    "    #handle no attribute exception which will occur if the specific tag is not present int he tag\n",
    "    except IndexError as e:\n",
    "        print(\"nil\")\n",
    "f.close()"
   ]
  },
  {
   "cell_type": "code",
   "execution_count": 62,
   "metadata": {},
   "outputs": [],
   "source": []
  },
  {
   "cell_type": "code",
   "execution_count": null,
   "metadata": {},
   "outputs": [],
   "source": []
  }
 ],
 "metadata": {
  "kernelspec": {
   "display_name": "Python 3",
   "language": "python",
   "name": "python3"
  },
  "language_info": {
   "codemirror_mode": {
    "name": "ipython",
    "version": 3
   },
   "file_extension": ".py",
   "mimetype": "text/x-python",
   "name": "python",
   "nbconvert_exporter": "python",
   "pygments_lexer": "ipython3",
   "version": "3.6.0"
  }
 },
 "nbformat": 4,
 "nbformat_minor": 2
}
